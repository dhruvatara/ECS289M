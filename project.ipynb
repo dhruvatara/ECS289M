{
  "nbformat": 4,
  "nbformat_minor": 0,
  "metadata": {
    "colab": {
      "name": "project.ipynb",
      "provenance": [],
      "collapsed_sections": [],
      "authorship_tag": "ABX9TyMBRp9S2zEh9GKTW4ilWAdW"
    },
    "kernelspec": {
      "name": "python3",
      "display_name": "Python 3"
    },
    "language_info": {
      "name": "python"
    }
  },
  "cells": [
    {
      "cell_type": "code",
      "metadata": {
        "id": "muIKUdb5S52O"
      },
      "source": [
        "import pandas as pd\n",
        "import tensorflow as tf\n",
        "from tensorflow import keras\n",
        "from keras.layers import InputLayer, Dense\n",
        "from sklearn.model_selection import train_test_split\n",
        "from sklearn import metrics"
      ],
      "execution_count": 2,
      "outputs": []
    },
    {
      "cell_type": "code",
      "metadata": {
        "colab": {
          "base_uri": "https://localhost:8080/",
          "height": 223
        },
        "id": "vN5q5hWSTHBH",
        "outputId": "057b6845-7366-48bb-d5d9-979aac3ccc48"
      },
      "source": [
        "data = pd.read_csv('basicFeatures.csv')\n",
        "data.head()"
      ],
      "execution_count": 3,
      "outputs": [
        {
          "output_type": "execute_result",
          "data": {
            "text/html": [
              "<div>\n",
              "<style scoped>\n",
              "    .dataframe tbody tr th:only-of-type {\n",
              "        vertical-align: middle;\n",
              "    }\n",
              "\n",
              "    .dataframe tbody tr th {\n",
              "        vertical-align: top;\n",
              "    }\n",
              "\n",
              "    .dataframe thead th {\n",
              "        text-align: right;\n",
              "    }\n",
              "</style>\n",
              "<table border=\"1\" class=\"dataframe\">\n",
              "  <thead>\n",
              "    <tr style=\"text-align: right;\">\n",
              "      <th></th>\n",
              "      <th>pressStart</th>\n",
              "      <th>pressStop</th>\n",
              "      <th>label</th>\n",
              "      <th>max beta</th>\n",
              "      <th>max gamma</th>\n",
              "      <th>min beta</th>\n",
              "      <th>min gamma</th>\n",
              "      <th>mean beta</th>\n",
              "      <th>mean gamma</th>\n",
              "      <th>AUB</th>\n",
              "      <th>ALB</th>\n",
              "    </tr>\n",
              "  </thead>\n",
              "  <tbody>\n",
              "    <tr>\n",
              "      <th>0</th>\n",
              "      <td>1619040831682</td>\n",
              "      <td>1619040831733</td>\n",
              "      <td>3</td>\n",
              "      <td>0.000227</td>\n",
              "      <td>0.000005</td>\n",
              "      <td>0.000227</td>\n",
              "      <td>0.000005</td>\n",
              "      <td>0.0</td>\n",
              "      <td>0.0</td>\n",
              "      <td>1.548826</td>\n",
              "      <td>0.0</td>\n",
              "    </tr>\n",
              "    <tr>\n",
              "      <th>1</th>\n",
              "      <td>1619040833422</td>\n",
              "      <td>1619040833478</td>\n",
              "      <td>9</td>\n",
              "      <td>0.000120</td>\n",
              "      <td>-0.000315</td>\n",
              "      <td>0.000120</td>\n",
              "      <td>-0.000315</td>\n",
              "      <td>0.0</td>\n",
              "      <td>0.0</td>\n",
              "      <td>-0.363196</td>\n",
              "      <td>0.0</td>\n",
              "    </tr>\n",
              "    <tr>\n",
              "      <th>2</th>\n",
              "      <td>1619040834440</td>\n",
              "      <td>1619040834491</td>\n",
              "      <td>2</td>\n",
              "      <td>0.000120</td>\n",
              "      <td>0.000219</td>\n",
              "      <td>0.000120</td>\n",
              "      <td>0.000219</td>\n",
              "      <td>0.0</td>\n",
              "      <td>0.0</td>\n",
              "      <td>0.501639</td>\n",
              "      <td>0.0</td>\n",
              "    </tr>\n",
              "    <tr>\n",
              "      <th>3</th>\n",
              "      <td>1619040837220</td>\n",
              "      <td>1619040837264</td>\n",
              "      <td>6</td>\n",
              "      <td>0.000120</td>\n",
              "      <td>0.000432</td>\n",
              "      <td>0.000120</td>\n",
              "      <td>0.000432</td>\n",
              "      <td>0.0</td>\n",
              "      <td>0.0</td>\n",
              "      <td>0.270575</td>\n",
              "      <td>0.0</td>\n",
              "    </tr>\n",
              "    <tr>\n",
              "      <th>4</th>\n",
              "      <td>1619040849028</td>\n",
              "      <td>1619040849084</td>\n",
              "      <td>1</td>\n",
              "      <td>0.000334</td>\n",
              "      <td>0.000325</td>\n",
              "      <td>0.000334</td>\n",
              "      <td>0.000325</td>\n",
              "      <td>0.0</td>\n",
              "      <td>0.0</td>\n",
              "      <td>0.797686</td>\n",
              "      <td>0.0</td>\n",
              "    </tr>\n",
              "  </tbody>\n",
              "</table>\n",
              "</div>"
            ],
            "text/plain": [
              "      pressStart      pressStop  label  ...  mean gamma       AUB  ALB\n",
              "0  1619040831682  1619040831733      3  ...         0.0  1.548826  0.0\n",
              "1  1619040833422  1619040833478      9  ...         0.0 -0.363196  0.0\n",
              "2  1619040834440  1619040834491      2  ...         0.0  0.501639  0.0\n",
              "3  1619040837220  1619040837264      6  ...         0.0  0.270575  0.0\n",
              "4  1619040849028  1619040849084      1  ...         0.0  0.797686  0.0\n",
              "\n",
              "[5 rows x 11 columns]"
            ]
          },
          "metadata": {
            "tags": []
          },
          "execution_count": 3
        }
      ]
    },
    {
      "cell_type": "code",
      "metadata": {
        "id": "msuZZKv2B6su"
      },
      "source": [
        "data = data.drop(data[data['label']=='b'].index)"
      ],
      "execution_count": 4,
      "outputs": []
    },
    {
      "cell_type": "code",
      "metadata": {
        "id": "Z0eOVBzhTVVu"
      },
      "source": [
        "X = data[['max beta','max gamma']]\n",
        "Y = data['label']"
      ],
      "execution_count": 5,
      "outputs": []
    },
    {
      "cell_type": "code",
      "metadata": {
        "id": "_YUGBPthZNPd"
      },
      "source": [
        "Y = keras.utils.to_categorical(Y, 10)"
      ],
      "execution_count": 6,
      "outputs": []
    },
    {
      "cell_type": "code",
      "metadata": {
        "id": "M2M57YVeTbFY"
      },
      "source": [
        "xtrain,xtest,ytrain,ytest = train_test_split(X,Y,test_size=0.3)"
      ],
      "execution_count": 7,
      "outputs": []
    },
    {
      "cell_type": "code",
      "metadata": {
        "id": "OY9uBpPxTdr1"
      },
      "source": [
        "model = keras.Sequential()\n",
        "model.add(Dense(8,input_shape=(2,),activation='relu'))\n",
        "model.add(Dense(16,activation='relu'))\n",
        "model.add(Dense(10,activation='softmax'))\n",
        "model.compile(loss='categorical_crossentropy',optimizer='Adam',metrics=['accuracy',keras.metrics.Precision()])"
      ],
      "execution_count": 18,
      "outputs": []
    },
    {
      "cell_type": "code",
      "metadata": {
        "colab": {
          "base_uri": "https://localhost:8080/"
        },
        "id": "o_AYerNYTvuj",
        "outputId": "3797109d-528b-4ce9-8bf2-4b11c3eaa903"
      },
      "source": [
        "model.fit(xtrain,ytrain,epochs=10)"
      ],
      "execution_count": 19,
      "outputs": [
        {
          "output_type": "stream",
          "text": [
            "Epoch 1/10\n",
            "6/6 [==============================] - 1s 3ms/step - loss: 2.3027 - accuracy: 0.1173 - precision_4: 0.0000e+00\n",
            "Epoch 2/10\n",
            "6/6 [==============================] - 0s 3ms/step - loss: 2.3020 - accuracy: 0.1229 - precision_4: 0.0000e+00\n",
            "Epoch 3/10\n",
            "6/6 [==============================] - 0s 3ms/step - loss: 2.3015 - accuracy: 0.1229 - precision_4: 0.0000e+00\n",
            "Epoch 4/10\n",
            "6/6 [==============================] - 0s 3ms/step - loss: 2.3011 - accuracy: 0.1229 - precision_4: 0.0000e+00\n",
            "Epoch 5/10\n",
            "6/6 [==============================] - 0s 3ms/step - loss: 2.3007 - accuracy: 0.1229 - precision_4: 0.0000e+00\n",
            "Epoch 6/10\n",
            "6/6 [==============================] - 0s 4ms/step - loss: 2.3002 - accuracy: 0.1341 - precision_4: 0.0000e+00\n",
            "Epoch 7/10\n",
            "6/6 [==============================] - 0s 3ms/step - loss: 2.2998 - accuracy: 0.1341 - precision_4: 0.0000e+00\n",
            "Epoch 8/10\n",
            "6/6 [==============================] - 0s 3ms/step - loss: 2.2991 - accuracy: 0.1341 - precision_4: 0.0000e+00\n",
            "Epoch 9/10\n",
            "6/6 [==============================] - 0s 3ms/step - loss: 2.2986 - accuracy: 0.1341 - precision_4: 0.0000e+00\n",
            "Epoch 10/10\n",
            "6/6 [==============================] - 0s 2ms/step - loss: 2.2981 - accuracy: 0.1341 - precision_4: 0.0000e+00\n"
          ],
          "name": "stdout"
        },
        {
          "output_type": "execute_result",
          "data": {
            "text/plain": [
              "<tensorflow.python.keras.callbacks.History at 0x7fda2ea72f10>"
            ]
          },
          "metadata": {
            "tags": []
          },
          "execution_count": 19
        }
      ]
    },
    {
      "cell_type": "code",
      "metadata": {
        "colab": {
          "base_uri": "https://localhost:8080/"
        },
        "id": "LBOmSYkJDY_D",
        "outputId": "56c383b3-b5b1-4263-d7a6-64365d793513"
      },
      "source": [
        "model.evaluate(xtest,ytest)"
      ],
      "execution_count": 13,
      "outputs": [
        {
          "output_type": "stream",
          "text": [
            "3/3 [==============================] - 0s 5ms/step - loss: 2.3072 - accuracy: 0.0390 - precision_1: 0.0000e+00\n"
          ],
          "name": "stdout"
        },
        {
          "output_type": "execute_result",
          "data": {
            "text/plain": [
              "[2.3071773052215576, 0.03896103799343109, 0.0]"
            ]
          },
          "metadata": {
            "tags": []
          },
          "execution_count": 13
        }
      ]
    }
  ]
}