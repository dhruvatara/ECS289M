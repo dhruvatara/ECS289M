{
  "nbformat": 4,
  "nbformat_minor": 0,
  "metadata": {
    "colab": {
      "name": "project.ipynb",
      "provenance": [],
      "collapsed_sections": [],
      "authorship_tag": "ABX9TyM789o+nqjIMD5+RovAVsVQ"
    },
    "kernelspec": {
      "name": "python3",
      "display_name": "Python 3"
    },
    "language_info": {
      "name": "python"
    }
  },
  "cells": [
    {
      "cell_type": "code",
      "metadata": {
        "id": "muIKUdb5S52O"
      },
      "source": [
        "import pandas as pd\n",
        "import tensorflow as tf\n",
        "from tensorflow import keras\n",
        "from keras.layers import InputLayer, Dense\n",
        "from sklearn.model_selection import train_test_split\n",
        "from sklearn import metrics"
      ],
      "execution_count": 1,
      "outputs": []
    },
    {
      "cell_type": "code",
      "metadata": {
        "colab": {
          "base_uri": "https://localhost:8080/",
          "height": 206
        },
        "id": "vN5q5hWSTHBH",
        "outputId": "90772b94-9e55-4561-bc80-43639dee3731"
      },
      "source": [
        "data = pd.read_csv('basicFeatures.csv')\n",
        "data.head()"
      ],
      "execution_count": 3,
      "outputs": [
        {
          "output_type": "execute_result",
          "data": {
            "text/html": [
              "<div>\n",
              "<style scoped>\n",
              "    .dataframe tbody tr th:only-of-type {\n",
              "        vertical-align: middle;\n",
              "    }\n",
              "\n",
              "    .dataframe tbody tr th {\n",
              "        vertical-align: top;\n",
              "    }\n",
              "\n",
              "    .dataframe thead th {\n",
              "        text-align: right;\n",
              "    }\n",
              "</style>\n",
              "<table border=\"1\" class=\"dataframe\">\n",
              "  <thead>\n",
              "    <tr style=\"text-align: right;\">\n",
              "      <th></th>\n",
              "      <th>pressStart</th>\n",
              "      <th>pressStop</th>\n",
              "      <th>label</th>\n",
              "      <th>max beta</th>\n",
              "      <th>max gamma</th>\n",
              "      <th>min beta</th>\n",
              "      <th>min gamma</th>\n",
              "      <th>mean beta</th>\n",
              "      <th>mean gamma</th>\n",
              "      <th>AUB</th>\n",
              "      <th>ALB</th>\n",
              "    </tr>\n",
              "  </thead>\n",
              "  <tbody>\n",
              "    <tr>\n",
              "      <th>0</th>\n",
              "      <td>1618975179293</td>\n",
              "      <td>1618975179413</td>\n",
              "      <td>1</td>\n",
              "      <td>0.020465</td>\n",
              "      <td>0.015160</td>\n",
              "      <td>0.020465</td>\n",
              "      <td>0.015160</td>\n",
              "      <td>0.0</td>\n",
              "      <td>0.0</td>\n",
              "      <td>0.933209</td>\n",
              "      <td>0.000000</td>\n",
              "    </tr>\n",
              "    <tr>\n",
              "      <th>1</th>\n",
              "      <td>1618975179901</td>\n",
              "      <td>1618975179982</td>\n",
              "      <td>3</td>\n",
              "      <td>-0.013410</td>\n",
              "      <td>-0.013709</td>\n",
              "      <td>-0.013410</td>\n",
              "      <td>-0.013709</td>\n",
              "      <td>0.0</td>\n",
              "      <td>0.0</td>\n",
              "      <td>0.000000</td>\n",
              "      <td>0.774353</td>\n",
              "    </tr>\n",
              "    <tr>\n",
              "      <th>2</th>\n",
              "      <td>1618975181038</td>\n",
              "      <td>1618975181172</td>\n",
              "      <td>7</td>\n",
              "      <td>0.009494</td>\n",
              "      <td>0.001839</td>\n",
              "      <td>0.009494</td>\n",
              "      <td>0.001839</td>\n",
              "      <td>0.0</td>\n",
              "      <td>0.0</td>\n",
              "      <td>1.379428</td>\n",
              "      <td>0.000000</td>\n",
              "    </tr>\n",
              "    <tr>\n",
              "      <th>3</th>\n",
              "      <td>1618975181289</td>\n",
              "      <td>1618975181382</td>\n",
              "      <td>8</td>\n",
              "      <td>-0.012662</td>\n",
              "      <td>-0.002632</td>\n",
              "      <td>-0.012662</td>\n",
              "      <td>-0.002632</td>\n",
              "      <td>0.0</td>\n",
              "      <td>0.0</td>\n",
              "      <td>0.000000</td>\n",
              "      <td>1.365886</td>\n",
              "    </tr>\n",
              "    <tr>\n",
              "      <th>4</th>\n",
              "      <td>1618975182074</td>\n",
              "      <td>1618975182143</td>\n",
              "      <td>0</td>\n",
              "      <td>0.009387</td>\n",
              "      <td>0.004708</td>\n",
              "      <td>0.009387</td>\n",
              "      <td>0.004708</td>\n",
              "      <td>0.0</td>\n",
              "      <td>0.0</td>\n",
              "      <td>1.105909</td>\n",
              "      <td>0.000000</td>\n",
              "    </tr>\n",
              "  </tbody>\n",
              "</table>\n",
              "</div>"
            ],
            "text/plain": [
              "      pressStart      pressStop label  ...  mean gamma       AUB       ALB\n",
              "0  1618975179293  1618975179413     1  ...         0.0  0.933209  0.000000\n",
              "1  1618975179901  1618975179982     3  ...         0.0  0.000000  0.774353\n",
              "2  1618975181038  1618975181172     7  ...         0.0  1.379428  0.000000\n",
              "3  1618975181289  1618975181382     8  ...         0.0  0.000000  1.365886\n",
              "4  1618975182074  1618975182143     0  ...         0.0  1.105909  0.000000\n",
              "\n",
              "[5 rows x 11 columns]"
            ]
          },
          "metadata": {
            "tags": []
          },
          "execution_count": 3
        }
      ]
    },
    {
      "cell_type": "code",
      "metadata": {
        "id": "msuZZKv2B6su"
      },
      "source": [
        "data = data.drop(data[data['label']=='b'].index)"
      ],
      "execution_count": 7,
      "outputs": []
    },
    {
      "cell_type": "code",
      "metadata": {
        "id": "Z0eOVBzhTVVu"
      },
      "source": [
        "X = data[['max beta','max gamma']]\n",
        "Y = data['label']"
      ],
      "execution_count": 9,
      "outputs": []
    },
    {
      "cell_type": "code",
      "metadata": {
        "id": "_YUGBPthZNPd"
      },
      "source": [
        "Y = keras.utils.to_categorical(Y, 10)"
      ],
      "execution_count": 10,
      "outputs": []
    },
    {
      "cell_type": "code",
      "metadata": {
        "id": "M2M57YVeTbFY"
      },
      "source": [
        "xtrain,xtest,ytrain,ytest = train_test_split(X,Y,test_size=0.3)"
      ],
      "execution_count": 11,
      "outputs": []
    },
    {
      "cell_type": "code",
      "metadata": {
        "id": "OY9uBpPxTdr1"
      },
      "source": [
        "model = keras.Sequential()\n",
        "model.add(Dense(8,input_shape=(2,),activation='softmax'))\n",
        "model.add(Dense(16,activation='softmax'))\n",
        "model.add(Dense(32,activation='softmax'))\n",
        "model.add(Dense(16,activation='softmax'))\n",
        "model.add(Dense(10,activation='softmax'))\n",
        "model.compile(loss='kl_divergence',optimizer='sgd',metrics=['accuracy',keras.metrics.Precision()])"
      ],
      "execution_count": 18,
      "outputs": []
    },
    {
      "cell_type": "code",
      "metadata": {
        "colab": {
          "base_uri": "https://localhost:8080/"
        },
        "id": "o_AYerNYTvuj",
        "outputId": "3f886645-00fe-413a-95f9-bfb2736e8fad"
      },
      "source": [
        "model.fit(xtrain,ytrain,epochs=10)"
      ],
      "execution_count": 19,
      "outputs": [
        {
          "output_type": "stream",
          "text": [
            "Epoch 1/10\n",
            "4/4 [==============================] - 1s 3ms/step - loss: 2.2973 - accuracy: 0.0752 - precision_3: 0.0000e+00\n",
            "Epoch 2/10\n",
            "4/4 [==============================] - 0s 3ms/step - loss: 2.2949 - accuracy: 0.0364 - precision_3: 0.0000e+00\n",
            "Epoch 3/10\n",
            "4/4 [==============================] - 0s 3ms/step - loss: 2.2909 - accuracy: 0.1000 - precision_3: 0.0000e+00\n",
            "Epoch 4/10\n",
            "4/4 [==============================] - 0s 5ms/step - loss: 2.2978 - accuracy: 0.1523 - precision_3: 0.0000e+00\n",
            "Epoch 5/10\n",
            "4/4 [==============================] - 0s 4ms/step - loss: 2.2969 - accuracy: 0.1429 - precision_3: 0.0000e+00\n",
            "Epoch 6/10\n",
            "4/4 [==============================] - 0s 3ms/step - loss: 2.2909 - accuracy: 0.1450 - precision_3: 0.0000e+00\n",
            "Epoch 7/10\n",
            "4/4 [==============================] - 0s 3ms/step - loss: 2.2932 - accuracy: 0.1741 - precision_3: 0.0000e+00\n",
            "Epoch 8/10\n",
            "4/4 [==============================] - 0s 4ms/step - loss: 2.2883 - accuracy: 0.1773 - precision_3: 0.0000e+00\n",
            "Epoch 9/10\n",
            "4/4 [==============================] - 0s 2ms/step - loss: 2.2938 - accuracy: 0.1627 - precision_3: 0.0000e+00\n",
            "Epoch 10/10\n",
            "4/4 [==============================] - 0s 2ms/step - loss: 2.2930 - accuracy: 0.1418 - precision_3: 0.0000e+00\n"
          ],
          "name": "stdout"
        },
        {
          "output_type": "execute_result",
          "data": {
            "text/plain": [
              "<tensorflow.python.keras.callbacks.History at 0x7fa1e7424dd0>"
            ]
          },
          "metadata": {
            "tags": []
          },
          "execution_count": 19
        }
      ]
    },
    {
      "cell_type": "code",
      "metadata": {
        "colab": {
          "base_uri": "https://localhost:8080/"
        },
        "id": "LBOmSYkJDY_D",
        "outputId": "6e07c48d-8ce2-4fd2-e06e-72e1fc2a39b8"
      },
      "source": [
        "model.evaluate(xtest,ytest)"
      ],
      "execution_count": 20,
      "outputs": [
        {
          "output_type": "stream",
          "text": [
            "2/2 [==============================] - 0s 4ms/step - loss: 2.2954 - accuracy: 0.0816 - precision_3: 0.0000e+00\n"
          ],
          "name": "stdout"
        },
        {
          "output_type": "execute_result",
          "data": {
            "text/plain": [
              "[2.295433759689331, 0.08163265138864517, 0.0]"
            ]
          },
          "metadata": {
            "tags": []
          },
          "execution_count": 20
        }
      ]
    }
  ]
}