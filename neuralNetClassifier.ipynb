{
  "nbformat": 4,
  "nbformat_minor": 0,
  "metadata": {
    "colab": {
      "name": "project.ipynb",
      "provenance": [],
      "collapsed_sections": [],
      "authorship_tag": "ABX9TyPfeyb2oH/j3VSnjuJ3KFBK"
    },
    "kernelspec": {
      "name": "python3",
      "display_name": "Python 3"
    },
    "language_info": {
      "name": "python"
    }
  },
  "cells": [
    {
      "cell_type": "code",
      "metadata": {
        "id": "muIKUdb5S52O"
      },
      "source": [
        "import pandas as pd\n",
        "import tensorflow as tf\n",
        "from tensorflow import keras\n",
        "from keras.layers import InputLayer, Dense\n",
        "from sklearn.model_selection import train_test_split\n",
        "from sklearn import metrics"
      ],
      "execution_count": 4,
      "outputs": []
    },
    {
      "cell_type": "code",
      "metadata": {
        "colab": {
          "base_uri": "https://localhost:8080/",
          "height": 206
        },
        "id": "vN5q5hWSTHBH",
        "outputId": "f3dd989f-5081-44ca-d992-ee316bed02be"
      },
      "source": [
        "data = pd.read_csv('basicFeatures.csv')\n",
        "data.head()"
      ],
      "execution_count": 5,
      "outputs": [
        {
          "output_type": "execute_result",
          "data": {
            "text/html": [
              "<div>\n",
              "<style scoped>\n",
              "    .dataframe tbody tr th:only-of-type {\n",
              "        vertical-align: middle;\n",
              "    }\n",
              "\n",
              "    .dataframe tbody tr th {\n",
              "        vertical-align: top;\n",
              "    }\n",
              "\n",
              "    .dataframe thead th {\n",
              "        text-align: right;\n",
              "    }\n",
              "</style>\n",
              "<table border=\"1\" class=\"dataframe\">\n",
              "  <thead>\n",
              "    <tr style=\"text-align: right;\">\n",
              "      <th></th>\n",
              "      <th>pressStart</th>\n",
              "      <th>pressStop</th>\n",
              "      <th>label</th>\n",
              "      <th>max beta</th>\n",
              "      <th>max gamma</th>\n",
              "      <th>min beta</th>\n",
              "      <th>min gamma</th>\n",
              "      <th>mean beta</th>\n",
              "      <th>mean gamma</th>\n",
              "      <th>AUB</th>\n",
              "      <th>ALB</th>\n",
              "    </tr>\n",
              "  </thead>\n",
              "  <tbody>\n",
              "    <tr>\n",
              "      <th>0</th>\n",
              "      <td>1619046453978</td>\n",
              "      <td>1619046454037</td>\n",
              "      <td>2</td>\n",
              "      <td>0.002934</td>\n",
              "      <td>0.003915</td>\n",
              "      <td>0.002934</td>\n",
              "      <td>0.003915</td>\n",
              "      <td>0.0</td>\n",
              "      <td>0.0</td>\n",
              "      <td>0.643171</td>\n",
              "      <td>0.0</td>\n",
              "    </tr>\n",
              "    <tr>\n",
              "      <th>1</th>\n",
              "      <td>1619046454563</td>\n",
              "      <td>1619046454629</td>\n",
              "      <td>3</td>\n",
              "      <td>0.003422</td>\n",
              "      <td>0.005563</td>\n",
              "      <td>0.003422</td>\n",
              "      <td>0.005563</td>\n",
              "      <td>0.0</td>\n",
              "      <td>0.0</td>\n",
              "      <td>0.551542</td>\n",
              "      <td>0.0</td>\n",
              "    </tr>\n",
              "    <tr>\n",
              "      <th>2</th>\n",
              "      <td>1619046454873</td>\n",
              "      <td>1619046454965</td>\n",
              "      <td>6</td>\n",
              "      <td>0.001958</td>\n",
              "      <td>0.003304</td>\n",
              "      <td>0.001958</td>\n",
              "      <td>0.003304</td>\n",
              "      <td>0.0</td>\n",
              "      <td>0.0</td>\n",
              "      <td>0.534804</td>\n",
              "      <td>0.0</td>\n",
              "    </tr>\n",
              "    <tr>\n",
              "      <th>3</th>\n",
              "      <td>1619046455283</td>\n",
              "      <td>1619046455375</td>\n",
              "      <td>9</td>\n",
              "      <td>0.002995</td>\n",
              "      <td>0.005197</td>\n",
              "      <td>0.002995</td>\n",
              "      <td>0.005197</td>\n",
              "      <td>0.0</td>\n",
              "      <td>0.0</td>\n",
              "      <td>0.522861</td>\n",
              "      <td>0.0</td>\n",
              "    </tr>\n",
              "    <tr>\n",
              "      <th>4</th>\n",
              "      <td>1619046455889</td>\n",
              "      <td>1619046455940</td>\n",
              "      <td>7</td>\n",
              "      <td>0.001835</td>\n",
              "      <td>0.003060</td>\n",
              "      <td>0.001835</td>\n",
              "      <td>0.003060</td>\n",
              "      <td>0.0</td>\n",
              "      <td>0.0</td>\n",
              "      <td>0.540243</td>\n",
              "      <td>0.0</td>\n",
              "    </tr>\n",
              "  </tbody>\n",
              "</table>\n",
              "</div>"
            ],
            "text/plain": [
              "      pressStart      pressStop  label  ...  mean gamma       AUB  ALB\n",
              "0  1619046453978  1619046454037      2  ...         0.0  0.643171  0.0\n",
              "1  1619046454563  1619046454629      3  ...         0.0  0.551542  0.0\n",
              "2  1619046454873  1619046454965      6  ...         0.0  0.534804  0.0\n",
              "3  1619046455283  1619046455375      9  ...         0.0  0.522861  0.0\n",
              "4  1619046455889  1619046455940      7  ...         0.0  0.540243  0.0\n",
              "\n",
              "[5 rows x 11 columns]"
            ]
          },
          "metadata": {
            "tags": []
          },
          "execution_count": 5
        }
      ]
    },
    {
      "cell_type": "code",
      "metadata": {
        "id": "msuZZKv2B6su"
      },
      "source": [
        "data = data.drop(data[data['label']=='b'].index)"
      ],
      "execution_count": 6,
      "outputs": []
    },
    {
      "cell_type": "code",
      "metadata": {
        "id": "Z0eOVBzhTVVu"
      },
      "source": [
        "X = data[['max beta','max gamma']]\n",
        "Y = data['label']"
      ],
      "execution_count": 7,
      "outputs": []
    },
    {
      "cell_type": "code",
      "metadata": {
        "id": "_YUGBPthZNPd"
      },
      "source": [
        "Y = keras.utils.to_categorical(Y, 10)"
      ],
      "execution_count": 8,
      "outputs": []
    },
    {
      "cell_type": "code",
      "metadata": {
        "id": "M2M57YVeTbFY"
      },
      "source": [
        "xtrain,xtest,ytrain,ytest = train_test_split(X,Y,test_size=0.3)"
      ],
      "execution_count": 9,
      "outputs": []
    },
    {
      "cell_type": "code",
      "metadata": {
        "id": "OY9uBpPxTdr1"
      },
      "source": [
        "model = keras.Sequential()\n",
        "model.add(Dense(8,input_shape=(2,),activation='softmax'))\n",
        "model.add(Dense(16,activation='softmax'))\n",
        "model.add(Dense(32,activation='softmax'))\n",
        "model.add(Dense(16,activation='softmax'))\n",
        "model.add(Dense(10,activation='softmax'))\n",
        "model.compile(loss='categorical_crossentropy',optimizer='rmsprop',metrics=['accuracy',keras.metrics.Precision()])"
      ],
      "execution_count": 18,
      "outputs": []
    },
    {
      "cell_type": "code",
      "metadata": {
        "colab": {
          "base_uri": "https://localhost:8080/"
        },
        "id": "o_AYerNYTvuj",
        "outputId": "a3313d82-88b1-4ed2-a9eb-3da11b39d1f0"
      },
      "source": [
        "model.fit(xtrain,ytrain,epochs=10)"
      ],
      "execution_count": 19,
      "outputs": [
        {
          "output_type": "stream",
          "text": [
            "Epoch 1/10\n",
            "3/3 [==============================] - 1s 4ms/step - loss: 2.3015 - accuracy: 0.1241 - precision_4: 0.0000e+00\n",
            "Epoch 2/10\n",
            "3/3 [==============================] - 0s 2ms/step - loss: 2.2906 - accuracy: 0.1553 - precision_4: 0.0000e+00\n",
            "Epoch 3/10\n",
            "3/3 [==============================] - 0s 3ms/step - loss: 2.2963 - accuracy: 0.1202 - precision_4: 0.0000e+00\n",
            "Epoch 4/10\n",
            "3/3 [==============================] - 0s 5ms/step - loss: 2.2935 - accuracy: 0.1163 - precision_4: 0.0000e+00\n",
            "Epoch 5/10\n",
            "3/3 [==============================] - 0s 6ms/step - loss: 2.2938 - accuracy: 0.1358 - precision_4: 0.0000e+00\n",
            "Epoch 6/10\n",
            "3/3 [==============================] - 0s 3ms/step - loss: 2.2909 - accuracy: 0.1358 - precision_4: 0.0000e+00\n",
            "Epoch 7/10\n",
            "3/3 [==============================] - 0s 5ms/step - loss: 2.2910 - accuracy: 0.1319 - precision_4: 0.0000e+00\n",
            "Epoch 8/10\n",
            "3/3 [==============================] - 0s 4ms/step - loss: 2.2962 - accuracy: 0.1202 - precision_4: 0.0000e+00\n",
            "Epoch 9/10\n",
            "3/3 [==============================] - 0s 3ms/step - loss: 2.2892 - accuracy: 0.1358 - precision_4: 0.0000e+00\n",
            "Epoch 10/10\n",
            "3/3 [==============================] - 0s 4ms/step - loss: 2.2936 - accuracy: 0.1241 - precision_4: 0.0000e+00\n"
          ],
          "name": "stdout"
        },
        {
          "output_type": "execute_result",
          "data": {
            "text/plain": [
              "<tensorflow.python.keras.callbacks.History at 0x7f0e662ed8d0>"
            ]
          },
          "metadata": {
            "tags": []
          },
          "execution_count": 19
        }
      ]
    },
    {
      "cell_type": "code",
      "metadata": {
        "colab": {
          "base_uri": "https://localhost:8080/"
        },
        "id": "LBOmSYkJDY_D",
        "outputId": "11f20e23-24ef-4c5c-ad3c-6aa36fa7427a"
      },
      "source": [
        "model.evaluate(xtest,ytest)"
      ],
      "execution_count": 20,
      "outputs": [
        {
          "output_type": "stream",
          "text": [
            "2/2 [==============================] - 0s 4ms/step - loss: 2.3014 - accuracy: 0.1111 - precision_4: 0.0000e+00\n"
          ],
          "name": "stdout"
        },
        {
          "output_type": "execute_result",
          "data": {
            "text/plain": [
              "[2.3014426231384277, 0.1111111119389534, 0.0]"
            ]
          },
          "metadata": {
            "tags": []
          },
          "execution_count": 20
        }
      ]
    }
  ]
}